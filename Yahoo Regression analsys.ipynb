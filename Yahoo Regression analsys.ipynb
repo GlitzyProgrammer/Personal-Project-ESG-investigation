{
 "cells": [
  {
   "cell_type": "code",
   "execution_count": 81,
   "metadata": {},
   "outputs": [],
   "source": [
    "import numpy as np\n",
    "import pandas as pd\n",
    "import matplotlib.pyplot as plt\n",
    "from scipy.stats import skew\n",
    "import statsmodels.api as sm\n",
    "from scipy.stats import f_oneway\n",
    "\n",
    "\n"
   ]
  },
  {
   "cell_type": "code",
   "execution_count": 82,
   "metadata": {},
   "outputs": [],
   "source": [
    "original_dataframe = pd.read_csv(r\"C:\\Users\\ljwil\\OneDrive\\Desktop\\Personal Projects\\Yahoo Mutal Fund Project\\MutualFunds.csv\")\n",
    "\n"
   ]
  },
  {
   "cell_type": "code",
   "execution_count": 83,
   "metadata": {},
   "outputs": [],
   "source": [
    "rows_to_add=[]\n",
    "for index, (esg_value, another_value,sector_name) in original_dataframe[['esg_score', 'fund_return_10years','fund_symbol']].iterrows():\n",
    "    if pd.isna(esg_value) or pd.isna(another_value)or another_value == 'N/A' or pd.isna(sector_name):\n",
    "          continue\n",
    "    else:\n",
    "         rows_to_add.append(original_dataframe.loc[index])\n",
    "\n",
    "\n",
    "rows_df = pd.DataFrame(rows_to_add)\n",
    "rows_df = rows_df.reset_index(drop=True)\n",
    "\n",
    "\n",
    "esg_colum = rows_df['esg_score']\n",
    "return_ten_years = rows_df['fund_return_10years']\n",
    "name_column = rows_df['fund_symbol']\n",
    "\n",
    "\n",
    "analysis_dataframe = pd.DataFrame({\n",
    "    'Name Column': name_column,\n",
    "    '10 year return': return_ten_years,\n",
    "    'ESG colums': esg_colum\n",
    "    })\n",
    "\n"
   ]
  },
  {
   "cell_type": "code",
   "execution_count": 84,
   "metadata": {},
   "outputs": [
    {
     "name": "stdout",
     "output_type": "stream",
     "text": [
      "F_onewayResult(statistic=np.float64(494794.60703384073), pvalue=np.float64(0.0))\n"
     ]
    }
   ],
   "source": [
    "print(f_oneway(esg_colum,return_ten_years))"
   ]
  },
  {
   "cell_type": "code",
   "execution_count": 85,
   "metadata": {},
   "outputs": [],
   "source": [
    "def custom_describe(data):\n",
    "    description = data.describe()\n",
    "    description.loc['Kurtosis'] = data.kurtosis()\n",
    "    description.loc['Sample Variation'] = description.loc['std'] **2   \n",
    "    description.loc['Standard Error'] = description.loc['std'] / description.loc['count']\n",
    "    # [n/(n-1)(n-2)] * Σ[(xi–x)/s]3\n",
    "    description.loc['Skewness'] =  skew(data)\n",
    "    description.loc[\"Sum\"] = sum(data)\n",
    "    description.loc['Range']= description.loc['max'].astype(int)-description.loc['min'].astype(int)\n",
    "    description =description.rename(index={'25%': 'Mode', '50%': 'Median','max':'Maximum','min':'Minimum','std':'Standard Deviation','mean':'Mean','count':'Count'})\n",
    "    description = description.drop(\"75%\")\n",
    "    new_order = ['Mean', 'Standard Error', 'Median','Mode','Standard Deviation','Sample Variation',\"Kurtosis\",\"Skewness\",\"Range\",\"Minimum\",\"Maximum\",\"Sum\",\"Count\"]\n",
    "    description = description.reindex(new_order)\n",
    "    return description"
   ]
  },
  {
   "cell_type": "code",
   "execution_count": 86,
   "metadata": {},
   "outputs": [
    {
     "name": "stdout",
     "output_type": "stream",
     "text": [
      "Mean                      23.758779\n",
      "Standard Error             0.000371\n",
      "Median                    23.380000\n",
      "Mode                      22.050000\n",
      "Standard Deviation         3.050321\n",
      "Sample Variation           9.304458\n",
      "Kurtosis                   2.592893\n",
      "Skewness                   0.730669\n",
      "Range                     27.000000\n",
      "Minimum                   14.230000\n",
      "Maximum                   41.210000\n",
      "Sum                   195534.750000\n",
      "Count                   8230.000000\n",
      "Name: esg_score, dtype: float64\n"
     ]
    }
   ],
   "source": [
    "print(custom_describe(esg_colum))\n",
    "description_esg_column  = custom_describe(esg_colum)\n",
    "threshold = description_esg_column['Mean']"
   ]
  },
  {
   "cell_type": "code",
   "execution_count": 87,
   "metadata": {},
   "outputs": [
    {
     "data": {
      "text/plain": [
       "Mean                     0.104472\n",
       "Standard Error           0.000006\n",
       "Median                   0.105200\n",
       "Mode                     0.077200\n",
       "Standard Deviation       0.047268\n",
       "Sample Variation         0.002234\n",
       "Kurtosis                 4.559587\n",
       "Skewness                -0.569539\n",
       "Range                    0.000000\n",
       "Minimum                 -0.330600\n",
       "Maximum                  0.379000\n",
       "Sum                    859.803540\n",
       "Count                 8230.000000\n",
       "Name: fund_return_10years, dtype: float64"
      ]
     },
     "execution_count": 87,
     "metadata": {},
     "output_type": "execute_result"
    }
   ],
   "source": [
    "custom_describe(return_ten_years)"
   ]
  },
  {
   "cell_type": "code",
   "execution_count": 88,
   "metadata": {},
   "outputs": [
    {
     "name": "stdout",
     "output_type": "stream",
     "text": [
      "Regression Stastisic Summary\n",
      "                        Regression Summary Table\n",
      "Multiple R                              0.274835\n",
      "R Square                                0.075534\n",
      "Adjusted R Square                       0.075422\n",
      "Standard Error                          0.045451\n",
      "Number of Observations               8230.000000\n"
     ]
    },
    {
     "data": {
      "text/plain": [
       "F_onewayResult(statistic=np.float64(494794.60703384073), pvalue=np.float64(0.0))"
      ]
     },
     "execution_count": 88,
     "metadata": {},
     "output_type": "execute_result"
    }
   ],
   "source": [
    "X = sm.add_constant(esg_colum)\n",
    "model = sm.OLS(return_ten_years, X).fit()\n",
    "summary = model.summary()\n",
    "multiple_r = model.rsquared ** 0.5\n",
    "multiple_r_squared = model.rsquared\n",
    "adjusted_r_squared = model.rsquared_adj\n",
    "residuals = model.resid\n",
    "rse = np.sqrt(np.sum(residuals**2) / (len(esg_colum) - 2))  #residual standard error (RSE)\n",
    "num_observations = model.nobs   #number of observations\n",
    "\n",
    "Regression_Summary = {\n",
    "    \"Multiple R\":[multiple_r],\n",
    "\"R Square\":[multiple_r_squared],\n",
    "\"Adjusted R Square\":[adjusted_r_squared],\n",
    "\"Standard Error\":[rse],\n",
    "\"Number of Observations\":[num_observations]\n",
    "}\n",
    "Regression_Summary_df = pd.DataFrame(Regression_Summary).transpose()\n",
    "label_regression =  [\"Regression Summary Table\"]\n",
    "Regression_Summary_df.columns = label_regression\n",
    "print(\"Regression Stastisic Summary\")\n",
    "print(Regression_Summary_df)\n",
    "f_oneway(esg_colum,return_ten_years)"
   ]
  },
  {
   "cell_type": "code",
   "execution_count": 89,
   "metadata": {},
   "outputs": [
    {
     "name": "stdout",
     "output_type": "stream",
     "text": [
      "Regression Stastisic Summary\n",
      "                        Regression Summary Table\n",
      "Multiple R                              0.100225\n",
      "R Square                                0.010045\n",
      "Adjusted R Square                       0.009837\n",
      "Standard Error                          1.701640\n",
      "Number of Observations               4773.000000\n"
     ]
    },
    {
     "data": {
      "text/plain": [
       "F_onewayResult(statistic=np.float64(771483.6258182289), pvalue=np.float64(0.0))"
      ]
     },
     "execution_count": 89,
     "metadata": {},
     "output_type": "execute_result"
    }
   ],
   "source": [
    "#now I am testing of lower ESG relates to better reutrns in 10 years\n",
    "analysis_dataframe_lowervals = analysis_dataframe[analysis_dataframe['ESG colums'] < threshold]\n",
    "\n",
    "\n",
    "esg_colum = analysis_dataframe_lowervals['ESG colums']\n",
    "return_ten_years = analysis_dataframe_lowervals['10 year return']\n",
    "\n",
    "X = sm.add_constant(return_ten_years)\n",
    "model = sm.OLS(esg_colum, X).fit()\n",
    "summary = model.summary()\n",
    "multiple_r = model.rsquared ** 0.5\n",
    "multiple_r_squared = model.rsquared\n",
    "adjusted_r_squared = model.rsquared_adj\n",
    "residuals = model.resid\n",
    "rse = np.sqrt(np.sum(residuals**2) / (len(return_ten_years) - 2))  #residual standard error (RSE)\n",
    "num_observations = model.nobs   #number of observations\n",
    "\n",
    "Regression_Summary = {\n",
    "    \"Multiple R\":[multiple_r],\n",
    "\"R Square\":[multiple_r_squared],\n",
    "\"Adjusted R Square\":[adjusted_r_squared],\n",
    "\"Standard Error\":[rse],\n",
    "\"Number of Observations\":[num_observations]\n",
    "}\n",
    "Regression_Summary_df = pd.DataFrame(Regression_Summary).transpose()\n",
    "label_regression =  [\"Regression Summary Table\"]\n",
    "Regression_Summary_df.columns = label_regression\n",
    "print(\"Regression Stastisic Summary\")\n",
    "print(Regression_Summary_df)\n",
    "\n",
    "f_oneway(esg_colum,return_ten_years)"
   ]
  },
  {
   "cell_type": "code",
   "execution_count": null,
   "metadata": {},
   "outputs": [
    {
     "data": {
      "image/png": "[encoded data removed]",
      "text/plain": [
       "<Figure size 640x480 with 1 Axes>"
      ]
     },
     "metadata": {},
     "output_type": "display_data"
    }
   ],
   "source": [
    "#Visualization of the 10 year return in relation to the ESG valuse\n",
    "plt.scatter(return_ten_years, esg_colum, label='Data points', color='blue')\n",
    "\n",
    "plt.plot(return_ten_years, model.fittedvalues, label='Regression Line', color='red')\n",
    "\n",
    "\n",
    "plt.xlabel('10 Year Return')\n",
    "plt.ylabel('ESG Column Values')\n",
    "plt.title('Regression of 10 Year Return vs. ESG Values')\n",
    "\n",
    "\n",
    "plt.legend()\n",
    "\n",
    "\n",
    "plt.show()"
   ]
  }
 ],
 "metadata": {
  "kernelspec": {
   "display_name": "Python 3",
   "language": "python",
   "name": "python3"
  },
  "language_info": {
   "codemirror_mode": {
    "name": "ipython",
    "version": 3
   },
   "file_extension": ".py",
   "mimetype": "text/x-python",
   "name": "python",
   "nbconvert_exporter": "python",
   "pygments_lexer": "ipython3",
   "version": "3.12.8"
  }
 },
 "nbformat": 4,
 "nbformat_minor": 2
}
